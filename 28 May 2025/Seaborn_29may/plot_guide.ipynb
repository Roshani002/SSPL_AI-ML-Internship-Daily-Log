{
 "cells": [
  {
   "cell_type": "markdown",
   "id": "a199f7d2",
   "metadata": {},
   "source": [
    "# Figure-level vs. axes-level functions"
   ]
  },
  {
   "cell_type": "markdown",
   "id": "e884485b",
   "metadata": {},
   "source": [
    "In addition to the different modules, there is a cross-cutting classification of seaborn functions as “axes-level” or “figure-level”. The examples above are axes-level functions. They plot data onto a single matplotlib.pyplot.Axes object, which is the return value of the function.\n",
    "\n",
    "In contrast, figure-level functions interface with matplotlib through a seaborn object, usually a FacetGrid, that manages the figure. Each module has a single figure-level function, which offers a unitary interface to its various axes-level functions. The organization looks a bit like this:\n",
    "\n"
   ]
  },
  {
   "cell_type": "markdown",
   "id": "78ebce83",
   "metadata": {},
   "source": [
    "![alt text](image.png)"
   ]
  },
  {
   "cell_type": "markdown",
   "id": "269cab08",
   "metadata": {},
   "source": [
    "`scatterplot()` and `lineplot()` is used when we want to see how variables in a dataset relate to each other and how those relationships depend on other variables."
   ]
  },
  {
   "cell_type": "markdown",
   "id": "1df1a9dc",
   "metadata": {},
   "source": [
    "What range do the observations cover? What is their central tendency? Are they heavily skewed in one direction? Is there evidence for bimodality? Are there significant outliers? Do the answers to these questions vary across subsets defined by other variables?\n",
    "\n",
    "for answer these questions use this plots: `histplot(), kdeplot(), ecdfplot(),` and `rugplot()`. They are grouped together within the figure-level `displot(), jointplot(),` and `pairplot()` functions.\n",
    "\n"
   ]
  },
  {
   "cell_type": "markdown",
   "id": "86777685",
   "metadata": {},
   "source": [
    "If one of the main variables is \"categorical\" (divided into discrete groups) it may be helpful to use a more specialized approach to visualization.\n",
    "\n",
    "There are a number of axes-level functions for plotting categorical data in different ways and a figure-level interface, `catplot()`, that gives unified higher-level access to them.\n",
    "\n",
    "\n",
    "#### Categorical scatterplots:\n",
    "`stripplot()` (with `kind=\"strip\"`; the default)\n",
    "\n",
    "`swarmplot()` (with `kind=\"swarm\"`)\n",
    "\n",
    "#### Categorical distribution plots:\n",
    "`boxplot()` (with `kind=\"box\"`)\n",
    "\n",
    "`violinplot()` (with `kind=\"violin\"`)\n",
    "\n",
    "`boxenplot()` (with `kind=\"boxen\"`)\n",
    "\n",
    "#### Categorical estimate plots:\n",
    "`pointplot()` (with `kind=\"point\"`)\n",
    "\n",
    "`barplot()` (with `kind=\"bar\"`)\n",
    "\n",
    "`countplot()` (with `kind=\"count\"`)\n",
    "\n"
   ]
  },
  {
   "cell_type": "markdown",
   "id": "e46e7c04",
   "metadata": {},
   "source": [
    "#### For Linear Regression\n",
    "`regplot()` and `lmplot()`"
   ]
  },
  {
   "cell_type": "markdown",
   "id": "3b00280a",
   "metadata": {},
   "source": [
    "### Essential Components for Generating a Plot\n",
    " \n",
    "\n",
    "A good plot or data visualization is made up of several components that have to be pieced up together to produce an end product:\n",
    "\n",
    "1. Data Component: An important first step in deciding how to visualize data is to know what type of data it is, e.g., categorical data, discrete data, continuous data, time-series data, etc.\n",
    "\n",
    "2. Geometric Component:Here is where you decide what kind of visualization is suitable for your data, e.g., scatter plot, line graphs, bar plots, histograms, Q-Q plots, smooth densities, boxplots, pair plots, heatmaps, pie charts, etc.\n",
    "\n",
    "3. Mapping Component:Here, you need to decide what variable to use as your independent variable (x-variable) and what to use as your dependent variable (y-variable). This is important, especially when your dataset is multi-dimensional with several features.\n",
    "\n",
    "4. Scale Component:Here, you decide what kind of scales to use in your plot, e.g., linear scale, log scale, etc.\n",
    "\n",
    "5. Labels Component:This includes things like axes labels, titles, legends, font size to use, etc.\n",
    "\n",
    "6. Ethical Component: Here, you want to make sure your visualization tells the true story. You need to be aware of your actions when cleaning, summarizing, manipulating, and producing a data visualization and ensure you aren’t using your visualization to mislead or manipulate your audience."
   ]
  },
  {
   "cell_type": "markdown",
   "id": "5deabd53",
   "metadata": {},
   "source": [
    "1. Barplots for comparing different quantities\n",
    "\n",
    "2. Density plots for studying distribution of a Variable\n",
    " \n",
    "3. Scatter plots for studying relationships\n",
    " \n",
    "4. Heatmap plot for quantifying relationships\n",
    " \n",
    "5. Time-dependent plots for studying trends\n",
    "\n",
    "6. Pie chart for displaying proportions\n",
    " \n",
    " \n",
    "\n",
    "\n",
    "\n"
   ]
  },
  {
   "cell_type": "markdown",
   "id": "448f49fd",
   "metadata": {},
   "source": [
    "![alt text](image-1.png)"
   ]
  },
  {
   "cell_type": "markdown",
   "id": "cc5d3112",
   "metadata": {},
   "source": [
    "https://www.comet.com/site/blog/different-plots-used-in-exploratory-data-analysis-eda/"
   ]
  },
  {
   "cell_type": "markdown",
   "id": "66b89946",
   "metadata": {},
   "source": [
    "https://www.linkedin.com/pulse/what-best-chart-graph-your-machine-learning-results-bushra-akram-u8pwf/"
   ]
  },
  {
   "cell_type": "markdown",
   "id": "d789b406",
   "metadata": {},
   "source": [
    "https://github.com/FavioVazquez/ds-cheatsheets/blob/master/Data_Visualization/Comprehensive%20Guide%20to%20Data%20Visualization_R.pdf"
   ]
  },
  {
   "cell_type": "markdown",
   "id": "6317e421",
   "metadata": {},
   "source": []
  }
 ],
 "metadata": {
  "language_info": {
   "name": "python"
  }
 },
 "nbformat": 4,
 "nbformat_minor": 5
}
