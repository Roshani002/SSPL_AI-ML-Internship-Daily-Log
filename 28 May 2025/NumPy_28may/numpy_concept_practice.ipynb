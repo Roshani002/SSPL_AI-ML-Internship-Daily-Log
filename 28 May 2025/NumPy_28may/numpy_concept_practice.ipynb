{
 "cells": [
  {
   "cell_type": "markdown",
   "id": "af5f6b69",
   "metadata": {},
   "source": [
    "###  Compute the median of the flattten numpy array"
   ]
  },
  {
   "cell_type": "code",
   "execution_count": 13,
   "id": "8ee46fc5",
   "metadata": {},
   "outputs": [],
   "source": [
    "import numpy as np"
   ]
  },
  {
   "cell_type": "code",
   "execution_count": 14,
   "id": "86a15b88",
   "metadata": {},
   "outputs": [
    {
     "name": "stdout",
     "output_type": "stream",
     "text": [
      "original array is [1 2 3 4 5 6 7]\n",
      "median of array is 4.0\n"
     ]
    }
   ],
   "source": [
    "# odd no of elements\n",
    "x_odd = np.array([1,2,3,4,5,6,7])\n",
    "print(\"original array is\" ,x_odd)\n",
    "\n",
    "med_odd = np.median(x_odd)\n",
    "print(\"median of array is\",med_odd)"
   ]
  },
  {
   "cell_type": "code",
   "execution_count": 8,
   "id": "99a7f2d5",
   "metadata": {},
   "outputs": [
    {
     "name": "stdout",
     "output_type": "stream",
     "text": [
      "[1 2 3 4 5 6 7 8]\n",
      "4.5\n"
     ]
    }
   ],
   "source": [
    "# even no of elements\n",
    "x_even = np.array([1,2,3,4,5,6,7,8])\n",
    "print(x_even)\n",
    "\n",
    "med_even = np.median(x_even)\n",
    "print(med_even)"
   ]
  },
  {
   "cell_type": "markdown",
   "id": "eeb62e9d",
   "metadata": {},
   "source": [
    "### Find Mean of a List of numpy array"
   ]
  },
  {
   "cell_type": "code",
   "execution_count": null,
   "id": "cdafde0b",
   "metadata": {},
   "outputs": [
    {
     "name": "stdout",
     "output_type": "stream",
     "text": [
      "[np.float64(2.0), np.float64(5.0), np.float64(8.0)]\n"
     ]
    }
   ],
   "source": [
    "# using np.mean()\n",
    "input = [np.array([1,2,3]),\n",
    "         np.array([4,5,6]),\n",
    "         np.array([7,8,9])]\n",
    "\n",
    "output = []\n",
    "\n",
    "for i in range(len(input)):\n",
    "    output.append(np.mean(input[i]))\n",
    "\n",
    "print(output)"
   ]
  },
  {
   "cell_type": "code",
   "execution_count": 15,
   "id": "d1c7be71",
   "metadata": {},
   "outputs": [
    {
     "name": "stdout",
     "output_type": "stream",
     "text": [
      "[np.float64(22.0), np.float64(55.0), np.float64(88.0)]\n"
     ]
    }
   ],
   "source": [
    "# using np.avarage()\n",
    "input = [np.array([11,22,33]),\n",
    "         np.array([44,55,66]),\n",
    "         np.array([77,88,99])]\n",
    "\n",
    "output = []\n",
    "\n",
    "for i in range(len(input)):\n",
    "    output.append(np.average(input[i]))\n",
    "\n",
    "print(output)"
   ]
  },
  {
   "cell_type": "markdown",
   "id": "645bb4c9",
   "metadata": {},
   "source": [
    "### numpy.nanmean() function\n",
    "numpy.nanmean() function can be used to calculate the mean of array ignoring the NaN value. If array have NaN value and we can find out the mean without effect of NaN value."
   ]
  },
  {
   "cell_type": "markdown",
   "id": "b2e7b868",
   "metadata": {},
   "source": [
    "\n",
    "Syntax: `numpy.nanmean(a, axis=None, dtype=None, out=None, keepdims=))`\n",
    "\n",
    "Parameters: \n",
    "\n",
    "a: [arr_like] input array \n",
    "\n",
    "axis: we can use **axis=1 means row wise or axis=0 means column wise**.\n",
    "\n",
    "out: output array \n",
    "\n",
    "dtype: data types of array \n",
    "\n",
    "overwrite_input: If True, then allow use of memory of input array a for calculations. The input array will be modified by the call to median. \n",
    "\n",
    "keepdims: If this is set to True, the axes which are reduced are left in the result as dimensions with size one. With this option, the result will broadcast correctly against the original a.\n",
    "\n",
    "Returns: Returns the average of the array elements\n",
    " "
   ]
  },
  {
   "cell_type": "code",
   "execution_count": 18,
   "id": "0ee0aff7",
   "metadata": {},
   "outputs": [
    {
     "name": "stdout",
     "output_type": "stream",
     "text": [
      "shape of array is (2, 3)\n",
      "Mean of array without using nanmean function: nan\n",
      "Using nanmean function: 26.4\n"
     ]
    }
   ],
   "source": [
    "# use of numpy.nanmean function\n",
    "arr = np.array([[20,15,37], [47,13, np.nan]])\n",
    "\n",
    "print(\"shape of array is\", arr.shape)\n",
    "print(\"Mean of array without using nanmean function:\", np.mean(arr))\n",
    "print(\"Using nanmean function:\", np.nanmean(arr))"
   ]
  },
  {
   "cell_type": "code",
   "execution_count": 26,
   "id": "8e89a08f",
   "metadata": {},
   "outputs": [
    {
     "name": "stdout",
     "output_type": "stream",
     "text": [
      "Shape of array is (4, 3)\n",
      "Mean of array with axis = 0: [26.5  29.75   nan]\n",
      "Using nanmedian function: [26.5  29.75 16.5 ]\n",
      "Mean of array with axis = 1: [25.33333333         nan         nan  9.        ]\n",
      "Using nanmedian function: [25.33333333 55.         22.5         9.        ]\n"
     ]
    }
   ],
   "source": [
    "# use of numpy.nanmean with axis=0\n",
    "# create 2d matrix with nan value \n",
    "arr = np.array([[32, 20, 24], \n",
    "                [47, 63, np.nan],   \n",
    "                [17, 28, np.nan],\n",
    "                [10, 8, 9]]) \n",
    "  \n",
    "print(\"Shape of array is\", arr.shape) \n",
    "print(\"Mean of array with axis = 0:\", np.mean(arr, axis=0))\n",
    "print(\"Using nanmedian function:\", np.nanmean(arr, axis=0))\n",
    "print(\"Mean of array with axis = 1:\", np.mean(arr, axis=1))\n",
    "print(\"Using nanmedian function:\", np.nanmean(arr, axis=1))"
   ]
  },
  {
   "cell_type": "markdown",
   "id": "fa8b1063",
   "metadata": {},
   "source": [
    "### NumPy matrix.mean()"
   ]
  },
  {
   "cell_type": "code",
   "execution_count": 31,
   "id": "8c9d105f",
   "metadata": {},
   "outputs": [
    {
     "name": "stdout",
     "output_type": "stream",
     "text": [
      "[[64  1]\n",
      " [12  3]]\n",
      "20.0\n"
     ]
    }
   ],
   "source": [
    "matrix = np.matrix('[64,1; 12,3]')\n",
    "print(matrix)\n",
    "\n",
    "matrix_mean = matrix.mean()\n",
    "print(matrix_mean)"
   ]
  },
  {
   "cell_type": "markdown",
   "id": "f0f5c4f4",
   "metadata": {},
   "source": [
    "### numpy.var() for get variance \n",
    "numpy.var(arr, axis = None) : Compute the variance of the given data (array elements) along the specified axis(if any).\n",
    "\n",
    "**var = mean(abs(x - x.mean())^2)**"
   ]
  },
  {
   "cell_type": "code",
   "execution_count": 34,
   "id": "cdc0d10c",
   "metadata": {},
   "outputs": [
    {
     "name": "stdout",
     "output_type": "stream",
     "text": [
      "arr :  [20, 2, 7, 1, 34]\n",
      "var of arr :  158.16\n",
      "\n",
      "var of arr :  158.16\n",
      "\n",
      "var of arr :  158.16\n"
     ]
    }
   ],
   "source": [
    "# 1D array \n",
    "arr = [20, 2, 7, 1, 34] \n",
    "\n",
    "print(\"arr : \", arr) \n",
    "print(\"var of arr : \", np.var(arr)) \n",
    "print(\"\\nvar of arr : \", np.var(arr, dtype = np.float32)) \n",
    "print(\"\\nvar of arr : \", np.var(arr, dtype = np.float64)) "
   ]
  },
  {
   "cell_type": "code",
   "execution_count": null,
   "id": "8708333b",
   "metadata": {},
   "outputs": [],
   "source": []
  }
 ],
 "metadata": {
  "kernelspec": {
   "display_name": ".venv",
   "language": "python",
   "name": "python3"
  },
  "language_info": {
   "codemirror_mode": {
    "name": "ipython",
    "version": 3
   },
   "file_extension": ".py",
   "mimetype": "text/x-python",
   "name": "python",
   "nbconvert_exporter": "python",
   "pygments_lexer": "ipython3",
   "version": "3.10.11"
  }
 },
 "nbformat": 4,
 "nbformat_minor": 5
}
