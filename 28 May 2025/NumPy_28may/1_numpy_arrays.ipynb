{
 "cells": [
  {
   "cell_type": "markdown",
   "id": "1c1f9e79",
   "metadata": {},
   "source": [
    "### NumPy - Linear Algebra Lib. for Python"
   ]
  },
  {
   "cell_type": "markdown",
   "id": "ffbf6529",
   "metadata": {},
   "source": [
    "## NumPy Arrays:"
   ]
  },
  {
   "cell_type": "code",
   "execution_count": 1,
   "id": "0a780fac",
   "metadata": {},
   "outputs": [],
   "source": [
    "mlist = [0,1,2,3,4]"
   ]
  },
  {
   "cell_type": "code",
   "execution_count": 2,
   "id": "aceeb8f6",
   "metadata": {},
   "outputs": [],
   "source": [
    "import numpy as np"
   ]
  },
  {
   "cell_type": "code",
   "execution_count": 3,
   "id": "84d9c48d",
   "metadata": {},
   "outputs": [
    {
     "data": {
      "text/plain": [
       "array([0, 1, 2, 3, 4])"
      ]
     },
     "execution_count": 3,
     "metadata": {},
     "output_type": "execute_result"
    }
   ],
   "source": [
    "# casting a list into numpy array\n",
    "arr = np.array(mlist)\n",
    "arr"
   ]
  },
  {
   "cell_type": "code",
   "execution_count": 5,
   "id": "b256817d",
   "metadata": {},
   "outputs": [
    {
     "data": {
      "text/plain": [
       "array([0, 1, 2, 3, 4], dtype=int8)"
      ]
     },
     "execution_count": 5,
     "metadata": {},
     "output_type": "execute_result"
    }
   ],
   "source": [
    "# casting a list into numpy array with specific data type to make it more efficient\n",
    "myarr = np.array(mlist,np.int8)\n",
    "myarr"
   ]
  },
  {
   "cell_type": "code",
   "execution_count": 10,
   "id": "cb9c8f2a",
   "metadata": {},
   "outputs": [
    {
     "ename": "OverflowError",
     "evalue": "Python integer 829324324 out of bounds for int8",
     "output_type": "error",
     "traceback": [
      "\u001b[1;31m---------------------------------------------------------------------------\u001b[0m",
      "\u001b[1;31mOverflowError\u001b[0m                             Traceback (most recent call last)",
      "Cell \u001b[1;32mIn[10], line 2\u001b[0m\n\u001b[0;32m      1\u001b[0m \u001b[38;5;66;03m# while giving specific data type if value exceeds then it will give error\u001b[39;00m\n\u001b[1;32m----> 2\u001b[0m \u001b[43mnp\u001b[49m\u001b[38;5;241;43m.\u001b[39;49m\u001b[43marray\u001b[49m\u001b[43m(\u001b[49m\u001b[43m[\u001b[49m\u001b[38;5;241;43m1\u001b[39;49m\u001b[43m,\u001b[49m\u001b[38;5;241;43m2\u001b[39;49m\u001b[43m,\u001b[49m\u001b[38;5;241;43m829324324\u001b[39;49m\u001b[43m,\u001b[49m\u001b[43m \u001b[49m\u001b[38;5;241;43m4\u001b[39;49m\u001b[43m,\u001b[49m\u001b[43m \u001b[49m\u001b[38;5;241;43m5\u001b[39;49m\u001b[43m]\u001b[49m\u001b[43m,\u001b[49m\u001b[43m \u001b[49m\u001b[43mnp\u001b[49m\u001b[38;5;241;43m.\u001b[39;49m\u001b[43mint8\u001b[49m\u001b[43m)\u001b[49m\n",
      "\u001b[1;31mOverflowError\u001b[0m: Python integer 829324324 out of bounds for int8"
     ]
    }
   ],
   "source": [
    "# while giving specific data type if value exceeds then it will give error\n",
    "np.array([1,2,829324324, 4, 5], np.int8)"
   ]
  },
  {
   "cell_type": "code",
   "execution_count": 11,
   "id": "167d2701",
   "metadata": {},
   "outputs": [
    {
     "data": {
      "text/plain": [
       "array([[1, 2, 3],\n",
       "       [4, 5, 6],\n",
       "       [7, 8, 9]])"
      ]
     },
     "execution_count": 11,
     "metadata": {},
     "output_type": "execute_result"
    }
   ],
   "source": [
    "my_matrix = [[1,2,3], [4,5,6], [7,8,9]]\n",
    "\n",
    "# casting 2-D list into 2-D array\n",
    "np.array(my_matrix)"
   ]
  },
  {
   "cell_type": "markdown",
   "id": "a3fa5f61",
   "metadata": {},
   "source": [
    "# Common ways to create numpy array"
   ]
  },
  {
   "cell_type": "markdown",
   "id": "8d6d4143",
   "metadata": {},
   "source": [
    "### 1. Creating array of specific range\n"
   ]
  },
  {
   "cell_type": "code",
   "execution_count": 15,
   "id": "860a9b83",
   "metadata": {},
   "outputs": [
    {
     "data": {
      "text/plain": [
       "array([0, 2, 4, 6, 8])"
      ]
     },
     "execution_count": 15,
     "metadata": {},
     "output_type": "execute_result"
    }
   ],
   "source": [
    "# np.arange(start, end, step-size=1)\n",
    "np.arange(0,10, step=2)"
   ]
  },
  {
   "cell_type": "code",
   "execution_count": 14,
   "id": "7604a565",
   "metadata": {},
   "outputs": [
    {
     "data": {
      "text/plain": [
       "array([0, 1, 2, 3, 4, 5, 6, 7, 8, 9])"
      ]
     },
     "execution_count": 14,
     "metadata": {},
     "output_type": "execute_result"
    }
   ],
   "source": [
    "np.arange(0,10)"
   ]
  },
  {
   "cell_type": "markdown",
   "id": "c45bd21f",
   "metadata": {},
   "source": [
    "### 2. Creating arrays of all zeros"
   ]
  },
  {
   "cell_type": "code",
   "execution_count": 17,
   "id": "41fae99c",
   "metadata": {},
   "outputs": [
    {
     "data": {
      "text/plain": [
       "array([0., 0., 0.])"
      ]
     },
     "execution_count": 17,
     "metadata": {},
     "output_type": "execute_result"
    }
   ],
   "source": [
    "# np.zeros(size)\n",
    "np.zeros(3)"
   ]
  },
  {
   "cell_type": "code",
   "execution_count": 18,
   "id": "64d97b94",
   "metadata": {},
   "outputs": [
    {
     "data": {
      "text/plain": [
       "array([[0., 0., 0., 0., 0.],\n",
       "       [0., 0., 0., 0., 0.],\n",
       "       [0., 0., 0., 0., 0.]])"
      ]
     },
     "execution_count": 18,
     "metadata": {},
     "output_type": "execute_result"
    }
   ],
   "source": [
    "# n- D array of all zeros - np.zeros(n-sized_tuple)\n",
    "np.zeros((3,5))"
   ]
  },
  {
   "cell_type": "markdown",
   "id": "527c7f35",
   "metadata": {},
   "source": [
    "\n",
    "### 3. Creating array of ones"
   ]
  },
  {
   "cell_type": "code",
   "execution_count": 21,
   "id": "1ccc6fdc",
   "metadata": {},
   "outputs": [
    {
     "data": {
      "text/plain": [
       "array([1., 1., 1., 1., 1.])"
      ]
     },
     "execution_count": 21,
     "metadata": {},
     "output_type": "execute_result"
    }
   ],
   "source": [
    "# np.ones(size)\n",
    "np.ones(5)"
   ]
  },
  {
   "cell_type": "code",
   "execution_count": 22,
   "id": "b2a36938",
   "metadata": {},
   "outputs": [
    {
     "data": {
      "text/plain": [
       "array([[1., 1., 1.],\n",
       "       [1., 1., 1.]])"
      ]
     },
     "execution_count": 22,
     "metadata": {},
     "output_type": "execute_result"
    }
   ],
   "source": [
    "# n-D array of ones\n",
    "np.ones((2,3))"
   ]
  },
  {
   "cell_type": "markdown",
   "id": "aeccc684",
   "metadata": {},
   "source": [
    "### 4. Creating linearly-spaced arrays in given range"
   ]
  },
  {
   "cell_type": "code",
   "execution_count": 27,
   "id": "2827e085",
   "metadata": {},
   "outputs": [
    {
     "data": {
      "text/plain": [
       "array([ 0.        ,  1.42857143,  2.85714286,  4.28571429,  5.71428571,\n",
       "        7.14285714,  8.57142857, 10.        ])"
      ]
     },
     "execution_count": 27,
     "metadata": {},
     "output_type": "execute_result"
    }
   ],
   "source": [
    "# linspace(start, stop, even_space = 50)\n",
    "# even_space - the size of array (also generate the array from start-stop range only)\n",
    "np.linspace(0,10,8)"
   ]
  },
  {
   "cell_type": "markdown",
   "id": "be2e139a",
   "metadata": {},
   "source": [
    "###  5. IDENTITY MATRIX using numpy (size - n*n)"
   ]
  },
  {
   "cell_type": "code",
   "execution_count": 28,
   "id": "6d3bf121",
   "metadata": {},
   "outputs": [
    {
     "data": {
      "text/plain": [
       "array([[1., 0., 0.],\n",
       "       [0., 1., 0.],\n",
       "       [0., 0., 1.]])"
      ]
     },
     "execution_count": 28,
     "metadata": {},
     "output_type": "execute_result"
    }
   ],
   "source": [
    "# np.eye(size)\n",
    "np.eye(3)"
   ]
  },
  {
   "cell_type": "code",
   "execution_count": 29,
   "id": "9400385c",
   "metadata": {},
   "outputs": [
    {
     "data": {
      "text/plain": [
       "array([[1., 0., 0., 0.],\n",
       "       [0., 1., 0., 0.],\n",
       "       [0., 0., 1., 0.],\n",
       "       [0., 0., 0., 1.]])"
      ]
     },
     "execution_count": 29,
     "metadata": {},
     "output_type": "execute_result"
    }
   ],
   "source": [
    "# np.identity(size)\n",
    "np.identity(4)"
   ]
  },
  {
   "cell_type": "markdown",
   "id": "1f5c2caf",
   "metadata": {},
   "source": [
    "### 6. Arrays of random numbers"
   ]
  },
  {
   "cell_type": "code",
   "execution_count": 35,
   "id": "ec4fa713",
   "metadata": {},
   "outputs": [
    {
     "name": "stdout",
     "output_type": "stream",
     "text": [
      "[0.49769568 0.59139787]\n",
      "[[0.48661917 0.94868727 0.22651296 0.64978574 0.86361175]\n",
      " [0.48416919 0.84968485 0.71495062 0.54478459 0.84725808]\n",
      " [0.22331466 0.1806735  0.4582409  0.09945402 0.07570253]]\n"
     ]
    }
   ],
   "source": [
    "# 1. rand - gives random numbers in uniform distribution (range: 0-1)\n",
    "print(np.random.rand(2)) # 1D array\n",
    "print(np.random.rand(3,5)) # 2D array\n",
    "# for 2-D > np.random.rand(3,5)"
   ]
  },
  {
   "cell_type": "code",
   "execution_count": 38,
   "id": "292eb1e1",
   "metadata": {},
   "outputs": [
    {
     "data": {
      "text/plain": [
       "array([[ 0.56561243,  0.57183738, -1.25525302, -0.36457518, -0.15811641],\n",
       "       [ 0.61236128, -0.04911079, -0.46899112,  0.51916125, -1.53367876],\n",
       "       [-1.42555584, -0.47987003,  0.02562803, -1.70692396,  1.68553335]])"
      ]
     },
     "execution_count": 38,
     "metadata": {},
     "output_type": "execute_result"
    }
   ],
   "source": [
    "# 2. randn - gives random numbers in standard normal distribution\n",
    "# np.random.randn(3)\n",
    "np.random.randn(3,5)"
   ]
  },
  {
   "cell_type": "code",
   "execution_count": 52,
   "id": "f4680062",
   "metadata": {},
   "outputs": [
    {
     "data": {
      "text/plain": [
       "39"
      ]
     },
     "execution_count": 52,
     "metadata": {},
     "output_type": "execute_result"
    }
   ],
   "source": [
    "# 3. randint - np.random.randint(low_inclusive, high_exclusive, size=1 (element))\n",
    "np.random.randint(0,100)"
   ]
  },
  {
   "cell_type": "code",
   "execution_count": 41,
   "id": "606b58c6",
   "metadata": {},
   "outputs": [
    {
     "data": {
      "text/plain": [
       "array([23, 90, 39, 71, 90, 69, 81, 62, 57,  6, 75, 50, 81, 73, 17, 39, 93,\n",
       "       62, 57, 50], dtype=int32)"
      ]
     },
     "execution_count": 41,
     "metadata": {},
     "output_type": "execute_result"
    }
   ],
   "source": [
    "np.random.randint(0,100,20)"
   ]
  },
  {
   "cell_type": "markdown",
   "id": "90222ee2",
   "metadata": {},
   "source": [
    "### 7. Creating Empty Array"
   ]
  },
  {
   "cell_type": "code",
   "execution_count": 50,
   "id": "0cfd4c4a",
   "metadata": {},
   "outputs": [
    {
     "data": {
      "text/plain": [
       "6"
      ]
     },
     "execution_count": 50,
     "metadata": {},
     "output_type": "execute_result"
    }
   ],
   "source": [
    "temparr = np.ones((2,3))\n",
    "temparr.size"
   ]
  },
  {
   "cell_type": "code",
   "execution_count": 48,
   "id": "98d24e65",
   "metadata": {},
   "outputs": [
    {
     "data": {
      "text/plain": [
       "array([[1., 1.],\n",
       "       [1., 1.]])"
      ]
     },
     "execution_count": 48,
     "metadata": {},
     "output_type": "execute_result"
    }
   ],
   "source": [
    "# creates empty array\n",
    "# In array it assigns memory block, for creating array we need to assisgn memory, in empty array we put any value\n",
    "emparr = np.empty((2,2))\n",
    "emparr"
   ]
  },
  {
   "cell_type": "code",
   "execution_count": 51,
   "id": "d612b599",
   "metadata": {},
   "outputs": [
    {
     "data": {
      "text/plain": [
       "array([[1., 1., 1.],\n",
       "       [1., 1., 1.]])"
      ]
     },
     "execution_count": 51,
     "metadata": {},
     "output_type": "execute_result"
    }
   ],
   "source": [
    "# creates empty array of specific sized predefined array (empty_size)\n",
    "# replicates the size of existing array\n",
    "\n",
    "emp_like = np.empty_like(temparr)\n",
    "emp_like"
   ]
  }
 ],
 "metadata": {
  "kernelspec": {
   "display_name": ".venv",
   "language": "python",
   "name": "python3"
  },
  "language_info": {
   "codemirror_mode": {
    "name": "ipython",
    "version": 3
   },
   "file_extension": ".py",
   "mimetype": "text/x-python",
   "name": "python",
   "nbconvert_exporter": "python",
   "pygments_lexer": "ipython3",
   "version": "3.10.11"
  }
 },
 "nbformat": 4,
 "nbformat_minor": 5
}
