{
 "cells": [
  {
   "cell_type": "markdown",
   "id": "ee3b513d",
   "metadata": {},
   "source": [
    "## NumPy Operations\n",
    "(same as matrix operations)"
   ]
  },
  {
   "cell_type": "markdown",
   "id": "e9eacffa",
   "metadata": {},
   "source": [
    "- Array with Array\n",
    "- Array with Scalars\n",
    "- Universal Array Functions"
   ]
  },
  {
   "cell_type": "code",
   "execution_count": 2,
   "id": "4a76c39a",
   "metadata": {},
   "outputs": [],
   "source": [
    "import numpy as np"
   ]
  },
  {
   "cell_type": "code",
   "execution_count": 3,
   "id": "4c2ff455",
   "metadata": {},
   "outputs": [
    {
     "data": {
      "text/plain": [
       "array([ 0,  1,  2,  3,  4,  5,  6,  7,  8,  9, 10])"
      ]
     },
     "execution_count": 3,
     "metadata": {},
     "output_type": "execute_result"
    }
   ],
   "source": [
    "arr = np.arange(0,11)\n",
    "arr"
   ]
  },
  {
   "cell_type": "markdown",
   "id": "f586aa3d",
   "metadata": {},
   "source": [
    "#### 1. Array with array operations\n",
    "\n",
    "NOTE: Two arrays of same SIZE and same DIMEENSIONS should be used always for performing an operations"
   ]
  },
  {
   "cell_type": "code",
   "execution_count": 4,
   "id": "3f82fb13",
   "metadata": {},
   "outputs": [
    {
     "data": {
      "text/plain": [
       "array([ 0,  2,  4,  6,  8, 10, 12, 14, 16, 18, 20])"
      ]
     },
     "execution_count": 4,
     "metadata": {},
     "output_type": "execute_result"
    }
   ],
   "source": [
    "arr + arr"
   ]
  },
  {
   "cell_type": "code",
   "execution_count": 6,
   "id": "7dd243cc",
   "metadata": {},
   "outputs": [
    {
     "data": {
      "text/plain": [
       "array([  0,   1,   4,   9,  16,  25,  36,  49,  64,  81, 100])"
      ]
     },
     "execution_count": 6,
     "metadata": {},
     "output_type": "execute_result"
    }
   ],
   "source": [
    "arr * arr\n",
    "# ....... etc all operations"
   ]
  },
  {
   "cell_type": "markdown",
   "id": "09c18cb6",
   "metadata": {},
   "source": [
    "#### 2. Array with Scalars Operations"
   ]
  },
  {
   "cell_type": "code",
   "execution_count": 7,
   "id": "ae2657f8",
   "metadata": {},
   "outputs": [
    {
     "data": {
      "text/plain": [
       "array([100, 101, 102, 103, 104, 105, 106, 107, 108, 109, 110])"
      ]
     },
     "execution_count": 7,
     "metadata": {},
     "output_type": "execute_result"
    }
   ],
   "source": [
    "arr + 100"
   ]
  },
  {
   "cell_type": "code",
   "execution_count": 8,
   "id": "7bf33dd2",
   "metadata": {},
   "outputs": [
    {
     "data": {
      "text/plain": [
       "array([-100,  -99,  -98,  -97,  -96,  -95,  -94,  -93,  -92,  -91,  -90])"
      ]
     },
     "execution_count": 8,
     "metadata": {},
     "output_type": "execute_result"
    }
   ],
   "source": [
    "arr - 100"
   ]
  },
  {
   "cell_type": "code",
   "execution_count": 9,
   "id": "dfe415e6",
   "metadata": {},
   "outputs": [
    {
     "data": {
      "text/plain": [
       "array([  0,   1,   4,   9,  16,  25,  36,  49,  64,  81, 100])"
      ]
     },
     "execution_count": 9,
     "metadata": {},
     "output_type": "execute_result"
    }
   ],
   "source": [
    "arr ** 2"
   ]
  },
  {
   "cell_type": "code",
   "execution_count": 10,
   "id": "f32b5106",
   "metadata": {},
   "outputs": [
    {
     "ename": "ZeroDivisionError",
     "evalue": "division by zero",
     "output_type": "error",
     "traceback": [
      "\u001b[1;31m---------------------------------------------------------------------------\u001b[0m",
      "\u001b[1;31mZeroDivisionError\u001b[0m                         Traceback (most recent call last)",
      "Cell \u001b[1;32mIn[10], line 2\u001b[0m\n\u001b[0;32m      1\u001b[0m \u001b[38;5;66;03m# IMP - Normal one gives ERROR\u001b[39;00m\n\u001b[1;32m----> 2\u001b[0m \u001b[38;5;241;43m1\u001b[39;49m\u001b[38;5;241;43m/\u001b[39;49m\u001b[38;5;241;43m0\u001b[39;49m\n",
      "\u001b[1;31mZeroDivisionError\u001b[0m: division by zero"
     ]
    }
   ],
   "source": [
    "# IMP - Normal one gives ERROR\n",
    "1/0"
   ]
  },
  {
   "cell_type": "code",
   "execution_count": 12,
   "id": "5273ae85",
   "metadata": {},
   "outputs": [
    {
     "name": "stderr",
     "output_type": "stream",
     "text": [
      "C:\\Users\\rosha\\AppData\\Local\\Temp\\ipykernel_2684\\3646263853.py:3: RuntimeWarning: invalid value encountered in divide\n",
      "  arr / arr\n"
     ]
    },
    {
     "data": {
      "text/plain": [
       "array([nan,  1.,  1.,  1.,  1.,  1.,  1.,  1.,  1.,  1.,  1.])"
      ]
     },
     "execution_count": 12,
     "metadata": {},
     "output_type": "execute_result"
    }
   ],
   "source": [
    "# NumPy only gives WARNING\n",
    "# first element -> 0/0, O/P -> nan\n",
    "arr / arr"
   ]
  },
  {
   "cell_type": "code",
   "execution_count": 13,
   "id": "f9b272b9",
   "metadata": {},
   "outputs": [
    {
     "name": "stderr",
     "output_type": "stream",
     "text": [
      "C:\\Users\\rosha\\AppData\\Local\\Temp\\ipykernel_2684\\2861371043.py:2: RuntimeWarning: divide by zero encountered in divide\n",
      "  1/ arr\n"
     ]
    },
    {
     "data": {
      "text/plain": [
       "array([       inf, 1.        , 0.5       , 0.33333333, 0.25      ,\n",
       "       0.2       , 0.16666667, 0.14285714, 0.125     , 0.11111111,\n",
       "       0.1       ])"
      ]
     },
     "execution_count": 13,
     "metadata": {},
     "output_type": "execute_result"
    }
   ],
   "source": [
    "# first element -> 1/0, O/P -> inf\n",
    "1/ arr"
   ]
  },
  {
   "cell_type": "markdown",
   "id": "80308d41",
   "metadata": {},
   "source": [
    "#### 2. Universal array functions"
   ]
  },
  {
   "cell_type": "code",
   "execution_count": 14,
   "id": "234f27d0",
   "metadata": {},
   "outputs": [
    {
     "data": {
      "text/plain": [
       "array([0.        , 1.        , 1.41421356, 1.73205081, 2.        ,\n",
       "       2.23606798, 2.44948974, 2.64575131, 2.82842712, 3.        ,\n",
       "       3.16227766])"
      ]
     },
     "execution_count": 14,
     "metadata": {},
     "output_type": "execute_result"
    }
   ],
   "source": [
    "# 1. Square root of every elements\n",
    "np.sqrt(arr)"
   ]
  },
  {
   "cell_type": "code",
   "execution_count": 15,
   "id": "9b864de8",
   "metadata": {},
   "outputs": [
    {
     "data": {
      "text/plain": [
       "array([1.00000000e+00, 2.71828183e+00, 7.38905610e+00, 2.00855369e+01,\n",
       "       5.45981500e+01, 1.48413159e+02, 4.03428793e+02, 1.09663316e+03,\n",
       "       2.98095799e+03, 8.10308393e+03, 2.20264658e+04])"
      ]
     },
     "execution_count": 15,
     "metadata": {},
     "output_type": "execute_result"
    }
   ],
   "source": [
    "# 2. Calculating Exponential of every elements\n",
    "np.exp(arr)"
   ]
  },
  {
   "cell_type": "code",
   "execution_count": 17,
   "id": "f01bf040",
   "metadata": {},
   "outputs": [
    {
     "data": {
      "text/plain": [
       "np.int64(10)"
      ]
     },
     "execution_count": 17,
     "metadata": {},
     "output_type": "execute_result"
    }
   ],
   "source": [
    "\n",
    "# 3. Finding maximum/minimum element\n",
    "np.max(arr)\n",
    "# np.min(arr)\n",
    "    # OR\n",
    "arr.max()\n",
    "# arr.min()\n"
   ]
  },
  {
   "cell_type": "code",
   "execution_count": 18,
   "id": "77d27ffe",
   "metadata": {},
   "outputs": [
    {
     "data": {
      "text/plain": [
       "array([ 1.        ,  0.54030231, -0.41614684, -0.9899925 , -0.65364362,\n",
       "        0.28366219,  0.96017029,  0.75390225, -0.14550003, -0.91113026,\n",
       "       -0.83907153])"
      ]
     },
     "execution_count": 18,
     "metadata": {},
     "output_type": "execute_result"
    }
   ],
   "source": [
    "# 4. Performing Trignometric OPerations on every element\n",
    "np.sin(arr)\n",
    "np.cos(arr)\n",
    "# .......etc"
   ]
  },
  {
   "cell_type": "code",
   "execution_count": 19,
   "id": "3c4e69e7",
   "metadata": {},
   "outputs": [
    {
     "name": "stderr",
     "output_type": "stream",
     "text": [
      "C:\\Users\\rosha\\AppData\\Local\\Temp\\ipykernel_2684\\3553873897.py:2: RuntimeWarning: divide by zero encountered in log\n",
      "  np.log(arr)\n"
     ]
    },
    {
     "data": {
      "text/plain": [
       "array([      -inf, 0.        , 0.69314718, 1.09861229, 1.38629436,\n",
       "       1.60943791, 1.79175947, 1.94591015, 2.07944154, 2.19722458,\n",
       "       2.30258509])"
      ]
     },
     "execution_count": 19,
     "metadata": {},
     "output_type": "execute_result"
    }
   ],
   "source": [
    "# 5. Performing LOGARITHMATIC Operations on every element\n",
    "np.log(arr)"
   ]
  },
  {
   "cell_type": "code",
   "execution_count": 20,
   "id": "908b9933",
   "metadata": {},
   "outputs": [
    {
     "data": {
      "text/plain": [
       "np.int64(55)"
      ]
     },
     "execution_count": 20,
     "metadata": {},
     "output_type": "execute_result"
    }
   ],
   "source": [
    "# 5. Finding sum of every elemets\n",
    "np.sum(arr)\n",
    "# OR\n",
    "arr.sum()"
   ]
  },
  {
   "cell_type": "code",
   "execution_count": 22,
   "id": "32eb4016",
   "metadata": {},
   "outputs": [
    {
     "data": {
      "text/plain": [
       "np.float64(3.1622776601683795)"
      ]
     },
     "execution_count": 22,
     "metadata": {},
     "output_type": "execute_result"
    }
   ],
   "source": [
    "# 6. Finding standard deviation\n",
    "np.std(arr)\n",
    "# OR\n",
    "arr.std()\n"
   ]
  },
  {
   "cell_type": "code",
   "execution_count": 23,
   "id": "27743195",
   "metadata": {},
   "outputs": [
    {
     "data": {
      "text/plain": [
       "array([[ 1,  2,  3,  4,  5],\n",
       "       [ 6,  7,  8,  9, 10],\n",
       "       [11, 12, 13, 14, 15],\n",
       "       [16, 17, 18, 19, 20],\n",
       "       [21, 22, 23, 24, 25]])"
      ]
     },
     "execution_count": 23,
     "metadata": {},
     "output_type": "execute_result"
    }
   ],
   "source": [
    "arr_2d = np.arange(1,26).reshape(5,5)\n",
    "arr_2d"
   ]
  },
  {
   "cell_type": "code",
   "execution_count": 25,
   "id": "4e2170be",
   "metadata": {},
   "outputs": [
    {
     "data": {
      "text/plain": [
       "array([ 15,  40,  65,  90, 115])"
      ]
     },
     "execution_count": 25,
     "metadata": {},
     "output_type": "execute_result"
    }
   ],
   "source": [
    "# Getting the sum of all the columns in arr_2d\n",
    "\n",
    "# here axis = 0 means all the columns\n",
    "# axis = 1 means all the rows\n",
    "\n",
    "np.sum(arr_2d, axis=0)\n",
    "#  OR\n",
    "np.sum(arr_2d, axis=1)"
   ]
  },
  {
   "cell_type": "markdown",
   "id": "f03b89c5",
   "metadata": {},
   "source": [
    "##### There are many more universal functions"
   ]
  },
  {
   "cell_type": "code",
   "execution_count": 49,
   "id": "45cf1251",
   "metadata": {},
   "outputs": [
    {
     "data": {
      "text/plain": [
       "array([[0, 1],\n",
       "       [2, 3],\n",
       "       [4, 5],\n",
       "       [6, 7],\n",
       "       [8, 9]])"
      ]
     },
     "execution_count": 49,
     "metadata": {},
     "output_type": "execute_result"
    }
   ],
   "source": [
    "arr_2d = np.arange(0,10).reshape(5,2)\n",
    "arr_2d"
   ]
  },
  {
   "cell_type": "code",
   "execution_count": 50,
   "id": "5ef9d907",
   "metadata": {},
   "outputs": [
    {
     "data": {
      "text/plain": [
       "array([20, 25])"
      ]
     },
     "execution_count": 50,
     "metadata": {},
     "output_type": "execute_result"
    }
   ],
   "source": [
    "arr_2d.sum(axis=0)"
   ]
  },
  {
   "cell_type": "code",
   "execution_count": 29,
   "id": "bae1ef12",
   "metadata": {},
   "outputs": [
    {
     "data": {
      "text/plain": [
       "array([[[ 0,  1,  2],\n",
       "        [ 3,  4,  5],\n",
       "        [ 6,  7,  8]],\n",
       "\n",
       "       [[ 9, 10, 11],\n",
       "        [12, 13, 14],\n",
       "        [15, 16, 17]],\n",
       "\n",
       "       [[18, 19, 20],\n",
       "        [21, 22, 23],\n",
       "        [24, 25, 26]]])"
      ]
     },
     "execution_count": 29,
     "metadata": {},
     "output_type": "execute_result"
    }
   ],
   "source": [
    "arr_3d = np.arange(27).reshape(3, 3, 3)\n",
    "arr_3d"
   ]
  },
  {
   "cell_type": "code",
   "execution_count": 30,
   "id": "30616d33",
   "metadata": {},
   "outputs": [
    {
     "data": {
      "text/plain": [
       "[array([[0, 1, 2],\n",
       "        [3, 4, 5],\n",
       "        [6, 7, 8]]),\n",
       " array([[ 9, 10, 11],\n",
       "        [12, 13, 14],\n",
       "        [15, 16, 17]]),\n",
       " array([[18, 19, 20],\n",
       "        [21, 22, 23],\n",
       "        [24, 25, 26]])]"
      ]
     },
     "execution_count": 30,
     "metadata": {},
     "output_type": "execute_result"
    }
   ],
   "source": [
    "list(arr_3d)"
   ]
  },
  {
   "cell_type": "markdown",
   "id": "d15621ee",
   "metadata": {},
   "source": [
    "axis=0 means column wise\n",
    "\n",
    "axis=1 means row wise\n",
    "\n",
    "axis=2 means take whole array together (in axis=0,1 it will take one element from different array)\n",
    "\n",
    "[0, 1, 2], [3, 4, 5],[6, 7, 8]\n",
    "[ 9, 10, 11], [12, 13, 14], [15, 16, 17]\n",
    "[18, 19, 20],  [21, 22, 23], [24, 25, 26]\n",
    "now think how it works"
   ]
  },
  {
   "cell_type": "code",
   "execution_count": 48,
   "id": "3d92f9b0",
   "metadata": {},
   "outputs": [
    {
     "data": {
      "text/plain": [
       "array([[ 3, 12, 21],\n",
       "       [30, 39, 48],\n",
       "       [57, 66, 75]])"
      ]
     },
     "execution_count": 48,
     "metadata": {},
     "output_type": "execute_result"
    }
   ],
   "source": [
    "arr_3d.sum(axis=2)"
   ]
  },
  {
   "cell_type": "markdown",
   "id": "269979c2",
   "metadata": {},
   "source": [
    "# Many more [Universal Array Functions 😁](https://numpy.org/doc/stable/reference/ufuncs.html)"
   ]
  }
 ],
 "metadata": {
  "kernelspec": {
   "display_name": ".venv",
   "language": "python",
   "name": "python3"
  },
  "language_info": {
   "codemirror_mode": {
    "name": "ipython",
    "version": 3
   },
   "file_extension": ".py",
   "mimetype": "text/x-python",
   "name": "python",
   "nbconvert_exporter": "python",
   "pygments_lexer": "ipython3",
   "version": "3.10.11"
  }
 },
 "nbformat": 4,
 "nbformat_minor": 5
}
