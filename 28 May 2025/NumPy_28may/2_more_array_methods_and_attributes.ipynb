{
 "cells": [
  {
   "cell_type": "code",
   "execution_count": 1,
   "id": "9a12c0a9",
   "metadata": {},
   "outputs": [],
   "source": [
    "import numpy as np"
   ]
  },
  {
   "cell_type": "code",
   "execution_count": 6,
   "id": "2dd13abc",
   "metadata": {},
   "outputs": [
    {
     "name": "stdout",
     "output_type": "stream",
     "text": [
      "[ 0  1  2  3  4  5  6  7  8  9 10 11 12 13 14 15 16 17 18 19 20 21 22 23\n",
      " 24]\n",
      "[ 8  0  4 38 30 35  8 47 30 31  5 48 25 19  2  0 35 23 40 41 28 42 46 45\n",
      " 22 31 31]\n"
     ]
    }
   ],
   "source": [
    "arr1 = np.arange(0,25)\n",
    "arr2 = np.random.randint(0,50,27)\n",
    "print(arr1)\n",
    "print(arr2)"
   ]
  },
  {
   "cell_type": "markdown",
   "id": "548bb5cd",
   "metadata": {},
   "source": [
    "### 1. Reshaping array (i.e. 1-D to n-D) (Method):\n",
    "syntax: `arrayName.reshape(n - rows, m - columns, ...)` and `arrayName.ravel()` - n-D array to 1-D array"
   ]
  },
  {
   "cell_type": "code",
   "execution_count": 12,
   "id": "2cdf100c",
   "metadata": {},
   "outputs": [
    {
     "data": {
      "text/plain": [
       "array([[ 0,  1,  2,  3,  4],\n",
       "       [ 5,  6,  7,  8,  9],\n",
       "       [10, 11, 12, 13, 14],\n",
       "       [15, 16, 17, 18, 19],\n",
       "       [20, 21, 22, 23, 24]])"
      ]
     },
     "execution_count": 12,
     "metadata": {},
     "output_type": "execute_result"
    }
   ],
   "source": [
    "arr_2d = arr1.reshape(5,5)\n",
    "arr_2d\n",
    " \n",
    "# here, multiplication of arguments in reshape() should be always \n",
    "#       equal to the size of 1-D array (base_array) & vice-versa\n",
    "# error arises when above conditions are not followed"
   ]
  },
  {
   "cell_type": "code",
   "execution_count": 13,
   "id": "cbdd4e54",
   "metadata": {},
   "outputs": [
    {
     "data": {
      "text/plain": [
       "array([[[ 8,  0,  4],\n",
       "        [38, 30, 35],\n",
       "        [ 8, 47, 30]],\n",
       "\n",
       "       [[31,  5, 48],\n",
       "        [25, 19,  2],\n",
       "        [ 0, 35, 23]],\n",
       "\n",
       "       [[40, 41, 28],\n",
       "        [42, 46, 45],\n",
       "        [22, 31, 31]]], dtype=int32)"
      ]
     },
     "execution_count": 13,
     "metadata": {},
     "output_type": "execute_result"
    }
   ],
   "source": [
    "# 1-D to 3-D\n",
    "arr2.reshape(3,3,3)"
   ]
  },
  {
   "cell_type": "code",
   "execution_count": 14,
   "id": "82bf2b59",
   "metadata": {},
   "outputs": [
    {
     "data": {
      "text/plain": [
       "array([ 0,  1,  2,  3,  4,  5,  6,  7,  8,  9, 10, 11, 12, 13, 14, 15, 16,\n",
       "       17, 18, 19, 20, 21, 22, 23, 24])"
      ]
     },
     "execution_count": 14,
     "metadata": {},
     "output_type": "execute_result"
    }
   ],
   "source": [
    "# 2-D to 1-D  -> n*m (2-D size) = N (1-D size)\n",
    "arr_2d.reshape(25)"
   ]
  },
  {
   "cell_type": "code",
   "execution_count": 16,
   "id": "02655bf0",
   "metadata": {},
   "outputs": [
    {
     "data": {
      "text/plain": [
       "array([[ 0,  1,  2,  3,  4],\n",
       "       [ 5,  6,  7,  8,  9],\n",
       "       [10, 11, 12, 13, 14],\n",
       "       [15, 16, 17, 18, 19],\n",
       "       [20, 21, 22, 23, 24]])"
      ]
     },
     "execution_count": 16,
     "metadata": {},
     "output_type": "execute_result"
    }
   ],
   "source": [
    "newarr = np.copy(arr_2d)\n",
    "newarr"
   ]
  },
  {
   "cell_type": "code",
   "execution_count": 17,
   "id": "50351ec8",
   "metadata": {},
   "outputs": [
    {
     "data": {
      "text/plain": [
       "array([ 0,  1,  2,  3,  4,  5,  6,  7,  8,  9, 10, 11, 12, 13, 14, 15, 16,\n",
       "       17, 18, 19, 20, 21, 22, 23, 24])"
      ]
     },
     "execution_count": 17,
     "metadata": {},
     "output_type": "execute_result"
    }
   ],
   "source": [
    "# from n-D array to 1-D array using ravel() function\n",
    "newarr_1d = newarr.ravel()\n",
    "newarr_1d"
   ]
  },
  {
   "cell_type": "markdown",
   "id": "2f518e10",
   "metadata": {},
   "source": [
    "### 2. Finding Max and Min value in array (Method):\n",
    "`.min() / .max()`"
   ]
  },
  {
   "cell_type": "code",
   "execution_count": 18,
   "id": "ba551f8e",
   "metadata": {},
   "outputs": [
    {
     "data": {
      "text/plain": [
       "np.int64(0)"
      ]
     },
     "execution_count": 18,
     "metadata": {},
     "output_type": "execute_result"
    }
   ],
   "source": [
    "arr1.min()"
   ]
  },
  {
   "cell_type": "code",
   "execution_count": 19,
   "id": "8fa0f5a3",
   "metadata": {},
   "outputs": [
    {
     "data": {
      "text/plain": [
       "np.int64(24)"
      ]
     },
     "execution_count": 19,
     "metadata": {},
     "output_type": "execute_result"
    }
   ],
   "source": [
    "arr1.max()"
   ]
  },
  {
   "cell_type": "markdown",
   "id": "ee46cb60",
   "metadata": {},
   "source": [
    "### 3. Finding INDEX of max and min value in array (Method):\n",
    "`.argmin() / .argmax()`\n"
   ]
  },
  {
   "cell_type": "code",
   "execution_count": 20,
   "id": "3a1a1340",
   "metadata": {},
   "outputs": [
    {
     "data": {
      "text/plain": [
       "np.int64(0)"
      ]
     },
     "execution_count": 20,
     "metadata": {},
     "output_type": "execute_result"
    }
   ],
   "source": [
    "arr1.argmin()"
   ]
  },
  {
   "cell_type": "code",
   "execution_count": 21,
   "id": "941b516c",
   "metadata": {},
   "outputs": [
    {
     "data": {
      "text/plain": [
       "np.int64(24)"
      ]
     },
     "execution_count": 21,
     "metadata": {},
     "output_type": "execute_result"
    }
   ],
   "source": [
    "arr1.argmax()"
   ]
  },
  {
   "cell_type": "markdown",
   "id": "079bedaa",
   "metadata": {},
   "source": [
    "### 4. Sorting an array"
   ]
  },
  {
   "cell_type": "markdown",
   "id": "83ac825a",
   "metadata": {},
   "source": [
    "`.argsort()` function gives the order in which a given array must be arranged for ascending order, it returns the index number of elements present in an array"
   ]
  },
  {
   "cell_type": "code",
   "execution_count": 22,
   "id": "b41e2a4c",
   "metadata": {},
   "outputs": [
    {
     "data": {
      "text/plain": [
       "array([  1,   2, 324,  56,   6])"
      ]
     },
     "execution_count": 22,
     "metadata": {},
     "output_type": "execute_result"
    }
   ],
   "source": [
    "one = np.array([1,2,324,56,6])\n",
    "one"
   ]
  },
  {
   "cell_type": "code",
   "execution_count": 24,
   "id": "ccf1bcfa",
   "metadata": {},
   "outputs": [
    {
     "data": {
      "text/plain": [
       "array([0, 1, 4, 3, 2])"
      ]
     },
     "execution_count": 24,
     "metadata": {},
     "output_type": "execute_result"
    }
   ],
   "source": [
    "# gives indices of the given array to be sorted\n",
    "one.argsort()"
   ]
  },
  {
   "cell_type": "code",
   "execution_count": 25,
   "id": "8481b6d6",
   "metadata": {},
   "outputs": [],
   "source": [
    "# using argsort() in 2-D arrays using axis"
   ]
  },
  {
   "cell_type": "code",
   "execution_count": 26,
   "id": "c0ce0ee0",
   "metadata": {},
   "outputs": [
    {
     "data": {
      "text/plain": [
       "array([[1, 2, 3],\n",
       "       [4, 5, 6],\n",
       "       [7, 8, 0]])"
      ]
     },
     "execution_count": 26,
     "metadata": {},
     "output_type": "execute_result"
    }
   ],
   "source": [
    "two = np.array([[1,2,3], [4,5,6], [7,8,0]])\n",
    "two"
   ]
  },
  {
   "cell_type": "code",
   "execution_count": 27,
   "id": "bbb4e81d",
   "metadata": {},
   "outputs": [
    {
     "data": {
      "text/plain": [
       "array([7, 8, 6])"
      ]
     },
     "execution_count": 27,
     "metadata": {},
     "output_type": "execute_result"
    }
   ],
   "source": [
    "two.max(axis=0)"
   ]
  },
  {
   "cell_type": "code",
   "execution_count": 28,
   "id": "ba821f10",
   "metadata": {},
   "outputs": [
    {
     "data": {
      "text/plain": [
       "array([2, 2, 1])"
      ]
     },
     "execution_count": 28,
     "metadata": {},
     "output_type": "execute_result"
    }
   ],
   "source": [
    "two.argmax(axis=0)"
   ]
  },
  {
   "cell_type": "code",
   "execution_count": 29,
   "id": "b2780e0f",
   "metadata": {},
   "outputs": [
    {
     "data": {
      "text/plain": [
       "array([2, 2, 1])"
      ]
     },
     "execution_count": 29,
     "metadata": {},
     "output_type": "execute_result"
    }
   ],
   "source": [
    "two.argmax(axis=1)"
   ]
  },
  {
   "cell_type": "code",
   "execution_count": 30,
   "id": "be91d357",
   "metadata": {},
   "outputs": [
    {
     "data": {
      "text/plain": [
       "array([[0, 0, 2],\n",
       "       [1, 1, 0],\n",
       "       [2, 2, 1]])"
      ]
     },
     "execution_count": 30,
     "metadata": {},
     "output_type": "execute_result"
    }
   ],
   "source": [
    "two.argsort(axis=0)"
   ]
  },
  {
   "cell_type": "markdown",
   "id": "07d77be3",
   "metadata": {},
   "source": [
    "### 5. Finding SHAPE of array/vector (Attribute):\n",
    "`arrayName.shape` - returns tuple"
   ]
  },
  {
   "cell_type": "code",
   "execution_count": 31,
   "id": "6b53db19",
   "metadata": {},
   "outputs": [
    {
     "data": {
      "text/plain": [
       "(25,)"
      ]
     },
     "execution_count": 31,
     "metadata": {},
     "output_type": "execute_result"
    }
   ],
   "source": [
    "arr1.shape"
   ]
  },
  {
   "cell_type": "code",
   "execution_count": 32,
   "id": "f7b13ba9",
   "metadata": {},
   "outputs": [
    {
     "data": {
      "text/plain": [
       "(5, 5)"
      ]
     },
     "execution_count": 32,
     "metadata": {},
     "output_type": "execute_result"
    }
   ],
   "source": [
    "arr_2d.shape"
   ]
  },
  {
   "cell_type": "code",
   "execution_count": 33,
   "id": "80021f8a",
   "metadata": {},
   "outputs": [
    {
     "data": {
      "text/plain": [
       "(3, 3, 3)"
      ]
     },
     "execution_count": 33,
     "metadata": {},
     "output_type": "execute_result"
    }
   ],
   "source": [
    "arr2.reshape(3,3,3).shape"
   ]
  },
  {
   "cell_type": "markdown",
   "id": "fe386d70",
   "metadata": {},
   "source": [
    "### 6. Finding DATA TYPE (Attribute):\n",
    "`arrayName.dtype`"
   ]
  },
  {
   "cell_type": "code",
   "execution_count": 34,
   "id": "40900b79",
   "metadata": {},
   "outputs": [
    {
     "data": {
      "text/plain": [
       "dtype('int64')"
      ]
     },
     "execution_count": 34,
     "metadata": {},
     "output_type": "execute_result"
    }
   ],
   "source": [
    "arr1.dtype"
   ]
  },
  {
   "cell_type": "code",
   "execution_count": 35,
   "id": "f133dd2f",
   "metadata": {},
   "outputs": [
    {
     "data": {
      "text/plain": [
       "dtype('float64')"
      ]
     },
     "execution_count": 35,
     "metadata": {},
     "output_type": "execute_result"
    }
   ],
   "source": [
    "np.array([1,2,2.0,0.0,12.1023243]).dtype"
   ]
  },
  {
   "cell_type": "code",
   "execution_count": 36,
   "id": "c5c3f60c",
   "metadata": {},
   "outputs": [
    {
     "data": {
      "text/plain": [
       "dtype('<U32')"
      ]
     },
     "execution_count": 36,
     "metadata": {},
     "output_type": "execute_result"
    }
   ],
   "source": [
    "np.array(['hii', 12, 9.8, 1]).dtype"
   ]
  },
  {
   "cell_type": "code",
   "execution_count": null,
   "id": "a9527c29",
   "metadata": {},
   "outputs": [],
   "source": []
  }
 ],
 "metadata": {
  "kernelspec": {
   "display_name": ".venv",
   "language": "python",
   "name": "python3"
  },
  "language_info": {
   "codemirror_mode": {
    "name": "ipython",
    "version": 3
   },
   "file_extension": ".py",
   "mimetype": "text/x-python",
   "name": "python",
   "nbconvert_exporter": "python",
   "pygments_lexer": "ipython3",
   "version": "3.10.11"
  }
 },
 "nbformat": 4,
 "nbformat_minor": 5
}
