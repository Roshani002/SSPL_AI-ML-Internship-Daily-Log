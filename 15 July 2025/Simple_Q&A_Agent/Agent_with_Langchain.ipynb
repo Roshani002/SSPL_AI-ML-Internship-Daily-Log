{
 "cells": [
  {
   "cell_type": "markdown",
   "id": "38aef6e6-3a9e-4544-8619-9ee1abe4d2e8",
   "metadata": {},
   "source": [
    "### Load API Key"
   ]
  },
  {
   "cell_type": "code",
   "execution_count": 1,
   "id": "128b2495-eeef-481b-8588-9857de5d4279",
   "metadata": {},
   "outputs": [],
   "source": [
    "from dotenv import load_dotenv\n",
    "import os\n",
    "\n",
    "load_dotenv() \n",
    "os.environ[\"LANGSMITH_TRACING\"] = \"true\"\n",
    "langsmith_api_key = os.getenv(\"LANGSMITH_API_KEY\")\n",
    "tavily_api_key = os.getenv(\"TAVILY_API_KEY\")\n",
    "groq_api_key = os.getenv(\"GROQ_API_KEY\")"
   ]
  },
  {
   "cell_type": "markdown",
   "id": "91222b2c-4f30-45a5-ab2a-a67ac0fdeb26",
   "metadata": {},
   "source": [
    "### Define tools"
   ]
  },
  {
   "cell_type": "code",
   "execution_count": 2,
   "id": "51a32d26-274b-4aa5-90a7-43060a373aff",
   "metadata": {
    "collapsed": true,
    "jupyter": {
     "outputs_hidden": true
    }
   },
   "outputs": [
    {
     "name": "stdout",
     "output_type": "stream",
     "text": [
      "{'query': 'What is the weather in SF', 'follow_up_questions': None, 'answer': None, 'images': [], 'results': [{'title': 'Weather in San Francisco', 'url': 'https://www.weatherapi.com/', 'content': \"{'location': {'name': 'San Francisco', 'region': 'California', 'country': 'United States of America', 'lat': 37.775, 'lon': -122.4183, 'tz_id': 'America/Los_Angeles', 'localtime_epoch': 1752578404, 'localtime': '2025-07-15 04:20'}, 'current': {'last_updated_epoch': 1752578100, 'last_updated': '2025-07-15 04:15', 'temp_c': 14.4, 'temp_f': 57.9, 'is_day': 0, 'condition': {'text': 'Overcast', 'icon': '//cdn.weatherapi.com/weather/64x64/night/122.png', 'code': 1009}, 'wind_mph': 6.5, 'wind_kph': 10.4, 'wind_degree': 249, 'wind_dir': 'WSW', 'pressure_mb': 1013.0, 'pressure_in': 29.91, 'precip_mm': 0.0, 'precip_in': 0.0, 'humidity': 87, 'cloud': 100, 'feelslike_c': 13.8, 'feelslike_f': 56.9, 'windchill_c': 11.2, 'windchill_f': 52.2, 'heatindex_c': 12.5, 'heatindex_f': 54.4, 'dewpoint_c': 11.8, 'dewpoint_f': 53.2, 'vis_km': 16.0, 'vis_miles': 9.0, 'uv': 0.0, 'gust_mph': 9.9, 'gust_kph': 15.9}}\", 'score': 0.8770962, 'raw_content': None}, {'url': 'https://www.weather25.com/north-america/usa/california/san-francisco?page=month&month=July', 'title': 'San Francisco weather in July 2025 | Weather25.com', 'content': '| February | 16° / 7° | 4 | 24 | 0 | 61 mm | Good | San Francisco in February | | March | 17° / 8° | 5 | 26 | 0 | 62 mm | Good | San Francisco in March | | May | 20° / 10° | 1 | 30 | 0 | 13 mm | Good | San Francisco in May | | July | 25° / 14° | 0 | 31 | 0 | 3 mm | Perfect | San Francisco in July | | December | 14° / 8° | 4 | 27 | 0 | 55 mm | Good | San Francisco in December |', 'score': 0.74785584, 'raw_content': None}], 'response_time': 0.88}\n"
     ]
    }
   ],
   "source": [
    "from langchain_tavily import TavilySearch\n",
    "\n",
    "search = TavilySearch(max_results=2)\n",
    "search_results = search.invoke(\"What is the weather in SF\")\n",
    "print(search_results)\n",
    "# Once we have all the tools we want, we can put them in a list that we will reference later.\n",
    "tools = [search]"
   ]
  },
  {
   "cell_type": "markdown",
   "id": "07deb659-d2ce-488a-97e3-7bb80424b61c",
   "metadata": {},
   "source": [
    "### Using Language models"
   ]
  },
  {
   "cell_type": "code",
   "execution_count": 3,
   "id": "2430182c-28b0-40f8-b898-b7fa3f1de082",
   "metadata": {},
   "outputs": [],
   "source": [
    "from langchain.chat_models import init_chat_model\n",
    "\n",
    "model = init_chat_model(\"llama3-8b-8192\", model_provider=\"groq\")"
   ]
  },
  {
   "cell_type": "code",
   "execution_count": 4,
   "id": "05f134c8-ed8b-43f8-aff4-9a6de3a6b780",
   "metadata": {},
   "outputs": [
    {
     "data": {
      "text/plain": [
       "\"Hi! It's nice to meet you. Is there something I can help you with or would you like to chat?\""
      ]
     },
     "execution_count": 4,
     "metadata": {},
     "output_type": "execute_result"
    }
   ],
   "source": [
    "query = \"Hi!\"\n",
    "response = model.invoke([{\"role\": \"user\", \"content\": query}])\n",
    "response.text()"
   ]
  },
  {
   "cell_type": "code",
   "execution_count": 5,
   "id": "fd64db19-69c6-449d-b967-b3a4c4b76716",
   "metadata": {},
   "outputs": [],
   "source": [
    "model_with_tools = model.bind_tools(tools)"
   ]
  },
  {
   "cell_type": "code",
   "execution_count": 7,
   "id": "cd4f120e-abd5-471d-8d91-c7dff964d3ff",
   "metadata": {},
   "outputs": [
    {
     "name": "stdout",
     "output_type": "stream",
     "text": [
      "Message content: Hello! It seems like you're starting a conversation. I'm here to help answer your questions. What's on your mind?\n",
      "\n",
      "Tool calls: []\n"
     ]
    }
   ],
   "source": [
    "query = \"Hi!\"\n",
    "response = model_with_tools.invoke([{\"role\": \"user\", \"content\": query}])\n",
    "\n",
    "print(f\"Message content: {response.text()}\\n\")\n",
    "print(f\"Tool calls: {response.tool_calls}\")"
   ]
  },
  {
   "cell_type": "code",
   "execution_count": 8,
   "id": "70dcc9c9-c099-4a7b-8c41-acfa3a21c658",
   "metadata": {},
   "outputs": [
    {
     "name": "stdout",
     "output_type": "stream",
     "text": [
      "Message content: \n",
      "\n",
      "Tool calls: [{'name': 'tavily_search', 'args': {'query': 'weather in San Francisco', 'search_depth': 'advanced', 'time_range': 'day'}, 'id': 'qatpwe40w', 'type': 'tool_call'}]\n"
     ]
    }
   ],
   "source": [
    "query = \"Search for the weather in SF\"\n",
    "response = model_with_tools.invoke([{\"role\": \"user\", \"content\": query}])\n",
    "\n",
    "print(f\"Message content: {response.text()}\\n\")\n",
    "print(f\"Tool calls: {response.tool_calls}\")"
   ]
  },
  {
   "cell_type": "markdown",
   "id": "5b0b96d1-4fc8-4da3-aeeb-0972e558c526",
   "metadata": {},
   "source": [
    "### Creating the agent"
   ]
  },
  {
   "cell_type": "code",
   "execution_count": 9,
   "id": "142fc778-8c7f-486b-bc1a-1362daf960f5",
   "metadata": {},
   "outputs": [],
   "source": [
    "from langgraph.prebuilt import create_react_agent\n",
    "\n",
    "agent_executor = create_react_agent(model, tools)"
   ]
  },
  {
   "cell_type": "code",
   "execution_count": 10,
   "id": "bd549efb-ad13-442f-ba50-b1e3262e55af",
   "metadata": {},
   "outputs": [
    {
     "name": "stdout",
     "output_type": "stream",
     "text": [
      "================================\u001b[1m Human Message \u001b[0m=================================\n",
      "\n",
      "Hi!\n",
      "==================================\u001b[1m Ai Message \u001b[0m==================================\n",
      "\n",
      "Hi!\n"
     ]
    }
   ],
   "source": [
    "input_message = {\"role\": \"user\", \"content\": \"Hi!\"}\n",
    "response = agent_executor.invoke({\"messages\": [input_message]})\n",
    "\n",
    "for message in response[\"messages\"]:\n",
    "    message.pretty_print()"
   ]
  },
  {
   "cell_type": "code",
   "execution_count": 13,
   "id": "0fb675b2-9507-476a-adaa-6b363af16724",
   "metadata": {
    "collapsed": true,
    "jupyter": {
     "outputs_hidden": true
    }
   },
   "outputs": [
    {
     "name": "stdout",
     "output_type": "stream",
     "text": [
      "================================\u001b[1m Human Message \u001b[0m=================================\n",
      "\n",
      "Search for the weather in SF\n",
      "==================================\u001b[1m Ai Message \u001b[0m==================================\n",
      "Tool Calls:\n",
      "  tavily_search (6jfta0qxv)\n",
      " Call ID: 6jfta0qxv\n",
      "  Args:\n",
      "    query: weather in San Francisco\n",
      "    search_depth: advanced\n",
      "    time_range: day\n",
      "    topic: general\n",
      "=================================\u001b[1m Tool Message \u001b[0m=================================\n",
      "Name: tavily_search\n",
      "\n",
      "{\"query\": \"weather in San Francisco\", \"follow_up_questions\": null, \"answer\": null, \"images\": [], \"results\": [{\"url\": \"https://www.sfchronicle.com/weather-forecast/article/bay-area-temperature-shift-winds-20769294.php\", \"title\": \"Bay Area in for a cooldown today — except for this region\", \"content\": \"Published Time: 2025-07-15T11:00:00Z\\n\\nBay Area weather: Why this city will buck cooling trend\\n\\n===============\\n\\nSkip to main contentSubscribe\\n\\nBay Area\\n\\n   San Francisco\\n   Transit\\n   Crime\\n   Drug Crisis\\n   Golden Gate Park\\n   COVID-19\\n   Health\\n   Data Spotlight\\n   PG&E\\n   Season of Sharing\\n   Housing Crisis\\n   Total SF\\n\\nWeather\\n\\n   Weather Forecast\\n   Air Quality Tracker\\n\\nClimate\\n\\n   Drought\\n   Fire Tracker\\n   Quake Tracker\\n   Wildfires\\n\\nFood\", \"score\": 0.76992935, \"raw_content\": null}, {\"url\": \"https://www.sfgate.com/news/bayarea/article/weather-forecast-for-the-san-francisco-bay-area-20770281.php\", \"title\": \"Weather Forecast For The San Francisco Bay Area - SFGATE\", \"content\": \"Published Time: 2025-07-15T07:00:00Z\\n\\nWeather Forecast For The San Francisco Bay Area\\n\\n===============\\n\\nSkip to main contentNewsletters\\n\\nHome\\n\\n   Newsletters\\n   Classifieds\\n   Standards & Practices\\n   Advertise With Us\\n   Privacy Notice\\n   Terms of Use\\n   Ad Choices\\n   Your Privacy Choices\\n\\nAbout SFGATE\\n\\nCareers\\n\\nContact SFGATE\\n\\nNews\\n\\n   Bay Area\\n   California Wildfires\\n   Education\\n   North Coast\\n   Politics\\n   Weather\\n\\nSports\\n\\n   49ers\\n   Giants\\n   A's\\n   Warriors\\n\\nBay Area\\n\\n   SF History\", \"score\": 0.75464433, \"raw_content\": null}], \"response_time\": 4.49}\n",
      "==================================\u001b[1m Ai Message \u001b[0m==================================\n",
      "\n",
      "Based on the result of the tool call, I can see that the user is looking for the weather in San Francisco. The result contains two articles related to the weather forecast in the San Francisco Bay Area. I will extract the most relevant information from these articles to provide a direct answer.\n",
      "\n",
      "According to the articles, the Bay Area is expected to experience a cooldown today, with some regions bucking the trend. The weather forecast for the San Francisco Bay Area is also provided, indicating that the area can expect [insert weather conditions here].\n",
      "\n",
      "Here is my direct answer:\n",
      "\n",
      "\"The Bay Area is expected to experience a cooldown today, with some regions bucking the trend. The weather forecast for the San Francisco Bay Area indicates that the area can expect [insert weather conditions here].\"\n",
      "\n",
      "Note: I will not use the tools again to provide this answer, as the user has already called the tool for the relevant information.\n"
     ]
    }
   ],
   "source": [
    "input_message = {\"role\": \"user\", \"content\": \"Search for the weather in SF\"}\n",
    "response = agent_executor.invoke({\"messages\": [input_message]})\n",
    "\n",
    "for message in response[\"messages\"]:\n",
    "    message.pretty_print()"
   ]
  },
  {
   "cell_type": "markdown",
   "id": "234253a5-ba85-411f-85c0-33b721435dc6",
   "metadata": {},
   "source": [
    "### Streaming messages"
   ]
  },
  {
   "cell_type": "code",
   "execution_count": 14,
   "id": "86283d2b-3452-46b3-a39d-be396c9c4940",
   "metadata": {
    "collapsed": true,
    "jupyter": {
     "outputs_hidden": true
    }
   },
   "outputs": [
    {
     "name": "stdout",
     "output_type": "stream",
     "text": [
      "================================\u001b[1m Human Message \u001b[0m=================================\n",
      "\n",
      "Search for the weather in SF\n",
      "==================================\u001b[1m Ai Message \u001b[0m==================================\n",
      "Tool Calls:\n",
      "  tavily_search (c9xbv57ec)\n",
      " Call ID: c9xbv57ec\n",
      "  Args:\n",
      "    query: weather in San Francisco\n",
      "    search_depth: advanced\n",
      "    time_range: day\n",
      "    topic: general\n",
      "=================================\u001b[1m Tool Message \u001b[0m=================================\n",
      "Name: tavily_search\n",
      "\n",
      "{\"query\": \"weather in San Francisco\", \"follow_up_questions\": null, \"answer\": null, \"images\": [], \"results\": [{\"url\": \"https://www.sfchronicle.com/weather-forecast/article/bay-area-temperature-shift-winds-20769294.php\", \"title\": \"Bay Area in for a cooldown today — except for this region\", \"content\": \"Published Time: 2025-07-15T11:00:00Z\\n\\nBay Area weather: Why this city will buck cooling trend\\n\\n===============\\n\\nSkip to main contentSubscribe\\n\\nBay Area\\n\\n   San Francisco\\n   Transit\\n   Crime\\n   Drug Crisis\\n   Golden Gate Park\\n   COVID-19\\n   Health\\n   Data Spotlight\\n   PG&E\\n   Season of Sharing\\n   Housing Crisis\\n   Total SF\\n\\nWeather\\n\\n   Weather Forecast\\n   Air Quality Tracker\\n\\nClimate\\n\\n   Drought\\n   Fire Tracker\\n   Quake Tracker\\n   Wildfires\\n\\nFood\", \"score\": 0.76992935, \"raw_content\": null}, {\"url\": \"https://www.sfgate.com/news/bayarea/article/weather-forecast-for-the-san-francisco-bay-area-20770281.php\", \"title\": \"Weather Forecast For The San Francisco Bay Area - SFGATE\", \"content\": \"Published Time: 2025-07-15T07:00:00Z\\n\\nWeather Forecast For The San Francisco Bay Area\\n\\n===============\\n\\nSkip to main contentNewsletters\\n\\nHome\\n\\n   Newsletters\\n   Classifieds\\n   Standards & Practices\\n   Advertise With Us\\n   Privacy Notice\\n   Terms of Use\\n   Ad Choices\\n   Your Privacy Choices\\n\\nAbout SFGATE\\n\\nCareers\\n\\nContact SFGATE\\n\\nNews\\n\\n   Bay Area\\n   California Wildfires\\n   Education\\n   North Coast\\n   Politics\\n   Weather\\n\\nSports\\n\\n   49ers\\n   Giants\\n   A's\\n   Warriors\\n\\nBay Area\\n\\n   SF History\", \"score\": 0.75464433, \"raw_content\": null}], \"response_time\": 2.87}\n",
      "==================================\u001b[1m Ai Message \u001b[0m==================================\n",
      "Tool Calls:\n",
      "  tavily_search (r5m71cjmg)\n",
      " Call ID: r5m71cjmg\n",
      "  Args:\n",
      "    query: weather in San Francisco\n",
      "=================================\u001b[1m Tool Message \u001b[0m=================================\n",
      "Name: tavily_search\n",
      "\n",
      "{\"query\": \"weather in San Francisco\", \"follow_up_questions\": null, \"answer\": null, \"images\": [], \"results\": [{\"title\": \"Weather in San Francisco\", \"url\": \"https://www.weatherapi.com/\", \"content\": \"{'location': {'name': 'San Francisco', 'region': 'California', 'country': 'United States of America', 'lat': 37.775, 'lon': -122.4183, 'tz_id': 'America/Los_Angeles', 'localtime_epoch': 1752580206, 'localtime': '2025-07-15 04:50'}, 'current': {'last_updated_epoch': 1752579900, 'last_updated': '2025-07-15 04:45', 'temp_c': 14.4, 'temp_f': 57.9, 'is_day': 0, 'condition': {'text': 'Overcast', 'icon': '//cdn.weatherapi.com/weather/64x64/night/122.png', 'code': 1009}, 'wind_mph': 6.5, 'wind_kph': 10.4, 'wind_degree': 249, 'wind_dir': 'WSW', 'pressure_mb': 1013.0, 'pressure_in': 29.91, 'precip_mm': 0.0, 'precip_in': 0.0, 'humidity': 87, 'cloud': 100, 'feelslike_c': 13.8, 'feelslike_f': 56.9, 'windchill_c': 11.2, 'windchill_f': 52.2, 'heatindex_c': 12.5, 'heatindex_f': 54.4, 'dewpoint_c': 11.8, 'dewpoint_f': 53.2, 'vis_km': 16.0, 'vis_miles': 9.0, 'uv': 0.0, 'gust_mph': 9.9, 'gust_kph': 15.9}}\", \"score\": 0.8894513, \"raw_content\": null}, {\"url\": \"https://world-weather.info/forecast/usa/san_francisco/july-2025/\", \"title\": \"Weather in San Francisco in July 2025 (California)\", \"content\": \"*   1 +70° +59° *   2 +72° +61° *   3 +70° +61° *   4 +70° +59° *   5 +70° +59° *   6 +70° +59° *   7 +70° +59° *   8 +70° +59° *   9 +70° +59° *   10 +72° +61° *   11 +72° +61° *   12 +70° +61° *   13 +70° +59° *   14 +70° +61° *   15 +72° +59° *   16 +72° +59° *   17 +70° +61° *   18 +72° +61° *   19 +70° +61° *   20 +72° +61° *   21 +70° +61° *   22 +72° +61° *   23 +72° +61° *   24 +70° +59° *   25 +72° +61° *   26 +72° +61° *   27 +70° +59° *   28 +70° +59° *   29 +70° +59° *   30 +70° +59°\", \"score\": 0.85216236, \"raw_content\": null}], \"response_time\": 1.19}\n",
      "==================================\u001b[1m Ai Message \u001b[0m==================================\n",
      "\n",
      "The weather in San Francisco is currently overcast with a temperature of 57.9°F (14.4°C). The wind is blowing at a speed of 10.4 km/h (6.5 mph) from the west-southwest. The humidity is 87% and the cloud cover is 100%.\n"
     ]
    }
   ],
   "source": [
    "for step in agent_executor.stream({\"messages\": [input_message]}, stream_mode=\"values\"):\n",
    "    step[\"messages\"][-1].pretty_print()"
   ]
  },
  {
   "cell_type": "markdown",
   "id": "c4d4ff8d-43b3-42cc-b538-24129304f080",
   "metadata": {},
   "source": [
    "### Streaming tokens"
   ]
  },
  {
   "cell_type": "code",
   "execution_count": 15,
   "id": "46632d25-c6fa-416f-93b6-098317973d3f",
   "metadata": {},
   "outputs": [
    {
     "name": "stdout",
     "output_type": "stream",
     "text": [
      "Based| on| the| response| from| the| tool|,| here|'s| a| more| detailed| response|:\n",
      "\n",
      "|The| weather| in| San| Francisco| today| is| expected| to| be| quite| pleasant|,| with| a| high| of| |72|°F| (|22|°C|)| and| a| low| of| |58|°F| (|14|°C|).| There|'s| a| slight| chance| of| fog| in| the| morning|,| but| it| should| clear| up| later| in| the| day|.| The| rest| of| the| Bay| Area| is| expected| to| experience| a| cooling| trend|,| with| temperatures| ranging| from| the| mid|-|60|s| to| the| mid|-|70|s| (|18|-|24|°C|).\n",
      "\n",
      "|You| can| check| the| latest| weather| forecast| on| S|FG|ATE| or| SF|Chron|icle| for| more| details|.|"
     ]
    }
   ],
   "source": [
    "for step, metadata in agent_executor.stream(\n",
    "    {\"messages\": [input_message]}, stream_mode=\"messages\"\n",
    "):\n",
    "    if metadata[\"langgraph_node\"] == \"agent\" and (text := step.text()):\n",
    "        print(text, end=\"|\")"
   ]
  },
  {
   "cell_type": "markdown",
   "id": "6555925b-d6b1-497e-acef-8655352790ab",
   "metadata": {},
   "source": [
    "### Adding in memory"
   ]
  },
  {
   "cell_type": "code",
   "execution_count": 16,
   "id": "3711104e-2740-474e-a7f9-12223a2a9524",
   "metadata": {},
   "outputs": [],
   "source": [
    "from langgraph.checkpoint.memory import MemorySaver\n",
    "memory = MemorySaver()"
   ]
  },
  {
   "cell_type": "code",
   "execution_count": 17,
   "id": "0236c4d8-f965-4c61-85e3-7799cf1ae895",
   "metadata": {},
   "outputs": [],
   "source": [
    "agent_executor = create_react_agent(model, tools, checkpointer=memory)\n",
    "config = {\"configurable\": {\"thread_id\": \"abc123\"}}"
   ]
  },
  {
   "cell_type": "code",
   "execution_count": 18,
   "id": "73e892a1-a28f-4f73-86be-68cced52162a",
   "metadata": {},
   "outputs": [
    {
     "name": "stdout",
     "output_type": "stream",
     "text": [
      "================================\u001b[1m Human Message \u001b[0m=================================\n",
      "\n",
      "Hi, I'm cattie!\n",
      "==================================\u001b[1m Ai Message \u001b[0m==================================\n",
      "\n",
      "Hi Cattie! It's nice to meet you! How can I help you today?\n"
     ]
    }
   ],
   "source": [
    "input_message = {\"role\": \"user\", \"content\": \"Hi, I'm cattie!\"}\n",
    "for step in agent_executor.stream(\n",
    "    {\"messages\": [input_message]}, config, stream_mode=\"values\"\n",
    "):\n",
    "    step[\"messages\"][-1].pretty_print()"
   ]
  },
  {
   "cell_type": "code",
   "execution_count": 19,
   "id": "3df55fe4-ac37-41f2-a7dd-f37c1d6f65c5",
   "metadata": {},
   "outputs": [
    {
     "name": "stdout",
     "output_type": "stream",
     "text": [
      "================================\u001b[1m Human Message \u001b[0m=================================\n",
      "\n",
      "What's my name?\n",
      "==================================\u001b[1m Ai Message \u001b[0m==================================\n",
      "\n",
      "Your name is Cattie!\n"
     ]
    }
   ],
   "source": [
    "input_message = {\"role\": \"user\", \"content\": \"What's my name?\"}\n",
    "for step in agent_executor.stream(\n",
    "    {\"messages\": [input_message]}, config, stream_mode=\"values\"\n",
    "):\n",
    "    step[\"messages\"][-1].pretty_print()"
   ]
  },
  {
   "cell_type": "code",
   "execution_count": 21,
   "id": "0fc471b9-e0df-40bb-9ebd-b8f486db69f3",
   "metadata": {},
   "outputs": [
    {
     "name": "stdout",
     "output_type": "stream",
     "text": [
      "================================\u001b[1m Human Message \u001b[0m=================================\n",
      "\n",
      "What's my name?\n",
      "==================================\u001b[1m Ai Message \u001b[0m==================================\n",
      "\n",
      "I apologize, but I couldn't find any relevant information about your name. It seems like the previous searches didn't yield any results related to your name. If you could provide more context or clarify what you mean by \"What's my name?\", I'd be happy to try and help you further!\n"
     ]
    }
   ],
   "source": [
    "config = {\"configurable\": {\"thread_id\": \"xyz123\"}}\n",
    "\n",
    "input_message = {\"role\": \"user\", \"content\": \"What's my name?\"}\n",
    "for step in agent_executor.stream(\n",
    "    {\"messages\": [input_message]}, config, stream_mode=\"values\"\n",
    "):\n",
    "    step[\"messages\"][-1].pretty_print()"
   ]
  },
  {
   "cell_type": "code",
   "execution_count": null,
   "id": "03e37da0-a5e7-4ff0-bc98-1f8116599155",
   "metadata": {},
   "outputs": [],
   "source": []
  },
  {
   "cell_type": "code",
   "execution_count": null,
   "id": "c5ea89e9-96e8-4695-abd1-3328d75cb85b",
   "metadata": {},
   "outputs": [],
   "source": []
  },
  {
   "cell_type": "code",
   "execution_count": null,
   "id": "b8da1a6b-3e07-4c59-b074-ae5e7e99cf00",
   "metadata": {},
   "outputs": [],
   "source": []
  },
  {
   "cell_type": "code",
   "execution_count": null,
   "id": "65a4c6a9-a8b6-48ee-aeb9-08bd1d04b17d",
   "metadata": {},
   "outputs": [],
   "source": []
  },
  {
   "cell_type": "code",
   "execution_count": null,
   "id": "665888f1-4338-4433-b9c1-e4d806d95daa",
   "metadata": {},
   "outputs": [],
   "source": []
  },
  {
   "cell_type": "code",
   "execution_count": null,
   "id": "ce4f0406-bf70-4d17-b0e7-e1a0477ac978",
   "metadata": {},
   "outputs": [],
   "source": []
  },
  {
   "cell_type": "code",
   "execution_count": null,
   "id": "89f700d4-ae73-44b2-a410-f10d819ce332",
   "metadata": {},
   "outputs": [],
   "source": []
  },
  {
   "cell_type": "code",
   "execution_count": null,
   "id": "94b00415-37dd-463e-9107-dac21135d0b8",
   "metadata": {},
   "outputs": [],
   "source": []
  },
  {
   "cell_type": "code",
   "execution_count": null,
   "id": "a90f9dbd-a125-4fd6-9cfe-2e126974f521",
   "metadata": {},
   "outputs": [],
   "source": []
  },
  {
   "cell_type": "code",
   "execution_count": null,
   "id": "bf466441-64e7-43f0-a99d-1917596afb5c",
   "metadata": {},
   "outputs": [],
   "source": []
  },
  {
   "cell_type": "code",
   "execution_count": null,
   "id": "1cc5d481-5a72-4eb2-8ae5-921b827fa6fa",
   "metadata": {},
   "outputs": [],
   "source": []
  },
  {
   "cell_type": "code",
   "execution_count": null,
   "id": "57d475a0-30bd-46a7-b447-2cbbe6024d13",
   "metadata": {},
   "outputs": [],
   "source": []
  },
  {
   "cell_type": "code",
   "execution_count": null,
   "id": "0f39bbeb-4d3b-4ab6-baaf-cafe54ced2e4",
   "metadata": {},
   "outputs": [],
   "source": []
  },
  {
   "cell_type": "code",
   "execution_count": null,
   "id": "b90da20f-e4d6-4bf0-80bf-0d0ce90e60b9",
   "metadata": {},
   "outputs": [],
   "source": []
  }
 ],
 "metadata": {
  "kernelspec": {
   "display_name": ".venv (Python 3.10)",
   "language": "python",
   "name": ".venv"
  },
  "language_info": {
   "codemirror_mode": {
    "name": "ipython",
    "version": 3
   },
   "file_extension": ".py",
   "mimetype": "text/x-python",
   "name": "python",
   "nbconvert_exporter": "python",
   "pygments_lexer": "ipython3",
   "version": "3.13.1"
  }
 },
 "nbformat": 4,
 "nbformat_minor": 5
}
